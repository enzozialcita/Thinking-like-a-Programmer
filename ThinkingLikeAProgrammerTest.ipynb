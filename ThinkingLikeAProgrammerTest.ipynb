{
 "cells": [
  {
   "cell_type": "code",
   "execution_count": 2,
   "id": "a4fdf29c-aa3f-4b31-841d-cece68f585db",
   "metadata": {},
   "outputs": [
    {
     "data": {
      "text/plain": [
       "'V'"
      ]
     },
     "execution_count": 2,
     "metadata": {},
     "output_type": "execute_result"
    }
   ],
   "source": [
    "def shift_letter(letter, shift):\n",
    "    wrap_number = ord(letter) - ( 40 + ( 2 * ( ord(letter) - 65 ) ) )\n",
    "    simplified_shift = shift - ( 26 * ( int(shift / 26) ) ) \n",
    "    if letter in ['A', 'B', 'C', 'D', 'E', 'F', 'G', 'H', 'I', 'J', 'K', 'L', 'M', 'N', 'O', 'P', 'Q', 'R', 'S', 'T', 'U', 'V', 'W', 'X', 'Y', 'Z'] and simplified_shift <= wrap_number:\n",
    "        a = ord(letter) + simplified_shift\n",
    "        b = chr(a)\n",
    "        return(b)\n",
    "    elif letter in ['A', 'B', 'C', 'D', 'E', 'F', 'G', 'H', 'I', 'J', 'K', 'L', 'M', 'N', 'O', 'P', 'Q', 'R', 'S', 'T', 'U', 'V', 'W', 'X', 'Y', 'Z'] and simplified_shift > wrap_number:\n",
    "        a = ord(letter) + ( simplified_shift - 26 )\n",
    "        b = chr(a)\n",
    "        return(b)\n",
    "    else: \n",
    "        return \" \"\n",
    "\n",
    "shift_letter(\"F\", 68)"
   ]
  },
  {
   "cell_type": "code",
   "execution_count": 3,
   "id": "63644988-231e-45c5-a3d4-53fbfa52327e",
   "metadata": {},
   "outputs": [
    {
     "data": {
      "text/plain": [
       "'IRDS MW WS TVS'"
      ]
     },
     "execution_count": 3,
     "metadata": {},
     "output_type": "execute_result"
    }
   ],
   "source": [
    "def caesar_cipher(message, shift):\n",
    "    finaltext = \"\"\n",
    "    i = 0\n",
    "    for i in range(len(message)):\n",
    "        char = message[i]\n",
    "        wrap_number = ord(char) - ( 40 + (2 * ( ord(char) - 65 ) ) )\n",
    "        simplified_shift = shift - ( 26 * ( int(shift / 26) ) ) \n",
    "        if char in ['A', 'B', 'C', 'D', 'E', 'F', 'G', 'H', 'I', 'J', 'K', 'L', 'M', 'N', 'O', 'P', 'Q', 'R', 'S', 'T', 'U', 'V', 'W', 'X', 'Y', 'Z'] and simplified_shift <= wrap_number:\n",
    "            a = ord(char) + simplified_shift\n",
    "            b = chr(a)\n",
    "            finaltext += b\n",
    "            i += 1\n",
    "        elif char in ['A', 'B', 'C', 'D', 'E', 'F', 'G', 'H', 'I', 'J', 'K', 'L', 'M', 'N', 'O', 'P', 'Q', 'R', 'S', 'T', 'U', 'V', 'W', 'X', 'Y', 'Z'] and simplified_shift > wrap_number:\n",
    "            a = ord(char) + ( simplified_shift - 26 )\n",
    "            b = chr(a)\n",
    "            finaltext += b\n",
    "            i += 1\n",
    "        else: \n",
    "            b = \" \"\n",
    "            finaltext += b\n",
    "            i += 1\n",
    "    return finaltext\n",
    "caesar_cipher(\"ENZO IS SO PRO\", 4)"
   ]
  },
  {
   "cell_type": "code",
   "execution_count": 4,
   "id": "695780ef-567c-4404-b9c5-e2fe35428851",
   "metadata": {},
   "outputs": [
    {
     "data": {
      "text/plain": [
       "'L'"
      ]
     },
     "execution_count": 4,
     "metadata": {},
     "output_type": "execute_result"
    }
   ],
   "source": [
    "def shift_by_letter(letter, letter_shift):\n",
    "    wrap_number = ord(letter) - ( 40 + (2 * ( ord(letter) - 65) ) )\n",
    "    shift = ord(letter_shift) - 65\n",
    "    if letter in ['A', 'B', 'C', 'D', 'E', 'F', 'G', 'H', 'I', 'J', 'K', 'L', 'M', 'N', 'O', 'P', 'Q', 'R', 'S', 'T', 'U', 'V', 'W', 'X', 'Y', 'Z'] and shift <= wrap_number:\n",
    "        a = ord(letter) + shift\n",
    "        b = chr(a)\n",
    "        return(b)\n",
    "    elif letter in ['A', 'B', 'C', 'D', 'E', 'F', 'G', 'H', 'I', 'J', 'K', 'L', 'M', 'N', 'O', 'P', 'Q', 'R', 'S', 'T', 'U', 'V', 'W', 'X', 'Y', 'Z'] and shift > wrap_number:\n",
    "        a = ord(letter) + (shift - 26)\n",
    "        b = chr(a)\n",
    "        return(b)\n",
    "    else: \n",
    "        return \" \"\n",
    "shift_by_letter(\"B\", \"K\")"
   ]
  },
  {
   "cell_type": "code",
   "execution_count": 5,
   "id": "f93b9c70-bdee-43ca-9391-a8657036cfb8",
   "metadata": {},
   "outputs": [
    {
     "data": {
      "text/plain": [
       "'K A'"
      ]
     },
     "execution_count": 5,
     "metadata": {},
     "output_type": "execute_result"
    }
   ],
   "source": [
    "def vigenere_cipher(message, key):\n",
    "    finaltext = \"\"\n",
    "    i = 0\n",
    "    if len(message) == len(key):\n",
    "        key = key\n",
    "    else:\n",
    "        z = 0\n",
    "        for z in range(len(message) - len(key)):\n",
    "            if z <= ( len(key) - 1 ):\n",
    "                key += key[z]\n",
    "                z += 1\n",
    "            else:\n",
    "                key += key[z - ( 3 * ( int(z / 3) ) )]\n",
    "                z += 1 \n",
    "    for i in range(len(message)):\n",
    "        char = message[i]\n",
    "        wrap_number = ord(char) - ( 40 + ( 2 * ( ord(char) - 65) ) )\n",
    "        shift = ord( key[i] ) - 65\n",
    "        if char in ['A', 'B', 'C', 'D', 'E', 'F', 'G', 'H', 'I', 'J', 'K', 'L', 'M', 'N', 'O', 'P', 'Q', 'R', 'S', 'T', 'U', 'V', 'W', 'X', 'Y', 'Z'] and shift <= wrap_number:\n",
    "            a = ord(char) + shift\n",
    "            b = chr(a)\n",
    "            finaltext += b\n",
    "            i += 1\n",
    "        elif char in ['A', 'B', 'C', 'D', 'E', 'F', 'G', 'H', 'I', 'J', 'K', 'L', 'M', 'N', 'O', 'P', 'Q', 'R', 'S', 'T', 'U', 'V', 'W', 'X', 'Y', 'Z'] and shift > wrap_number:\n",
    "            a = ord(char) + ( shift - 26 )\n",
    "            b = chr(a)\n",
    "            finaltext += b\n",
    "            i += 1\n",
    "        else: \n",
    "            b = \" \"\n",
    "            finaltext += b\n",
    "            i += 1\n",
    "    return finaltext\n",
    "vigenere_cipher(\"A C\", \"KEY\")"
   ]
  },
  {
   "cell_type": "code",
   "execution_count": 6,
   "id": "0eff4016-f89e-4676-9f34-9a929058c8db",
   "metadata": {},
   "outputs": [
    {
     "data": {
      "text/plain": [
       "'IRIANMOGFANEOT__'"
      ]
     },
     "execution_count": 6,
     "metadata": {},
     "output_type": "execute_result"
    }
   ],
   "source": [
    "def scytale_cipher(message, shift):\n",
    "    encoded_message = \"\"\n",
    "    i = 0\n",
    "    check_multiple = len(message) - ( shift * int( len(message) / shift ) )\n",
    "    difference = shift - check_multiple\n",
    "    if check_multiple == 0 and len(message) >= shift :\n",
    "        new_message = message\n",
    "    else:\n",
    "        z = 0\n",
    "        for z in range(difference):\n",
    "            new_message = message + \"_\"\n",
    "            z += 1\n",
    "    for i in range(len(new_message)):\n",
    "        a = new_message[(i // shift) + (len(new_message) // shift) * (i % shift)]\n",
    "        encoded_message += a\n",
    "        i += 1\n",
    "    return encoded_message\n",
    "\n",
    "scytale_cipher(\"INFORMATION_AGE\", 4)"
   ]
  },
  {
   "cell_type": "code",
   "execution_count": 7,
   "id": "5cff810a-45a0-4131-ac36-e7d4cf9cca55",
   "metadata": {},
   "outputs": [
    {
     "data": {
      "text/plain": [
       "'ALGORITHMS_ARE_IMPORTANT'"
      ]
     },
     "execution_count": 7,
     "metadata": {},
     "output_type": "execute_result"
    }
   ],
   "source": [
    "def scytale_decipher(message, shift):\n",
    "    decoded_message = \"\"\n",
    "    i = 0\n",
    "    for i in range(len(message)):\n",
    "        a = message[int( ( i - ( ( len(message) / shift ) * int( i / ( len(message) / shift ) ) ) ) * shift ) + int( i / ( len(message) / shift ) )]\n",
    "        decoded_message += a\n",
    "        i += 1\n",
    "    return decoded_message\n",
    "scytale_decipher(\"AOTSRIOALRH_EMRNGIMA_PTT\", 8)"
   ]
  },
  {
   "cell_type": "code",
   "execution_count": null,
   "id": "be21e451-058d-4bbf-a147-ea6a3dc22a80",
   "metadata": {},
   "outputs": [],
   "source": []
  }
 ],
 "metadata": {
  "kernelspec": {
   "display_name": "Python 3 (ipykernel)",
   "language": "python",
   "name": "python3"
  },
  "language_info": {
   "codemirror_mode": {
    "name": "ipython",
    "version": 3
   },
   "file_extension": ".py",
   "mimetype": "text/x-python",
   "name": "python",
   "nbconvert_exporter": "python",
   "pygments_lexer": "ipython3",
   "version": "3.9.12"
  }
 },
 "nbformat": 4,
 "nbformat_minor": 5
}
